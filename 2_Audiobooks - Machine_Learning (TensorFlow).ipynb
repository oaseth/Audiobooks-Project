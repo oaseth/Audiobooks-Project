{
 "cells": [
  {
   "attachments": {},
   "cell_type": "markdown",
   "metadata": {},
   "source": [
    "# Audiobooks business case - Machine Learning"
   ]
  },
  {
   "attachments": {},
   "cell_type": "markdown",
   "metadata": {},
   "source": [
    "\n",
    "After the preprocessing stage, the machine learning algorithm to predict the tendency for a customer to purchase another product from the Audiobook company will be created.\n",
    "\n",
    "The main idea is that if a customer has a low probability of coming back, there is no reason to spend any money on advertizing to him/her. If we can focus our efforts ONLY on customers that are likely to convert again, we can make great savings. Moreover, this model can identify the most important metrics for a customer to come back again. Identifying new customers creates value and growth opportunities.\n",
    "\n",
    "The data to be used are the train, test and validation data saved from the preprocessing notebook. We are taking a period of 2 years in our inputs, and the next 6 months as targets. So, in fact, we are predicting if: based on the last 2 years of activity and engagement, a customer will convert in the next 6 months. 6 months sounds like a reasonable time. If they don't convert after 6 months, chances are they've gone to a competitor or didn't like the Audiobook way of digesting information.\n",
    "\n",
    "This is a classification problem with two classes: won't buy and will buy, represented by 0s and 1s. "
   ]
  },
  {
   "attachments": {},
   "cell_type": "markdown",
   "metadata": {},
   "source": [
    "## Create the machine learning algorithm\n",
    "\n"
   ]
  },
  {
   "attachments": {},
   "cell_type": "markdown",
   "metadata": {},
   "source": [
    "### Import the relevant libraries"
   ]
  },
  {
   "cell_type": "code",
   "execution_count": 1,
   "metadata": {},
   "outputs": [],
   "source": [
    "# Import relevant libraries\n",
    "import numpy as np\n",
    "import tensorflow as tf"
   ]
  },
  {
   "attachments": {},
   "cell_type": "markdown",
   "metadata": {},
   "source": [
    "### Load data"
   ]
  },
  {
   "cell_type": "code",
   "execution_count": 2,
   "metadata": {},
   "outputs": [],
   "source": [
    "# Create a temporary variable npz to store each of the three Audiobooks datasets\n",
    "npz = np.load('Audiobooks_data_train.npz')\n",
    "\n",
    "# Extract the inputs using the keyword under which they were saved them\n",
    "# Ensure that they are all floats\n",
    "train_inputs = npz['inputs'].astype(np.float)\n",
    "# The targets must be int because of sparse_categorical_crossentropy \n",
    "train_targets = npz['targets'].astype(np.int)\n",
    "\n",
    "# Load the validation data in the temporary variable\n",
    "npz = np.load('Audiobooks_data_validation.npz')\n",
    "# Load the inputs and the targets in the same line\n",
    "validation_inputs, validation_targets = npz['inputs'].astype(np.float), npz['targets'].astype(np.int)\n",
    "\n",
    "# Load the test data in the temporary variable\n",
    "npz = np.load('Audiobooks_data_test.npz')\n",
    "# Create 2 variables that will contain the test inputs and the test targets\n",
    "test_inputs, test_targets = npz['inputs'].astype(np.float), npz['targets'].astype(np.int)"
   ]
  },
  {
   "attachments": {},
   "cell_type": "markdown",
   "metadata": {},
   "source": [
    "### Model\n",
    "Outline, optimizers, loss, early stopping and training"
   ]
  },
  {
   "cell_type": "code",
   "execution_count": 3,
   "metadata": {},
   "outputs": [
    {
     "name": "stdout",
     "output_type": "stream",
     "text": [
      "Epoch 1/100\n",
      "36/36 - 1s - loss: 0.5101 - accuracy: 0.7762 - val_loss: 0.3890 - val_accuracy: 0.8792\n",
      "Epoch 2/100\n",
      "36/36 - 0s - loss: 0.3565 - accuracy: 0.8720 - val_loss: 0.3189 - val_accuracy: 0.8971\n",
      "Epoch 3/100\n",
      "36/36 - 0s - loss: 0.3175 - accuracy: 0.8815 - val_loss: 0.3001 - val_accuracy: 0.9060\n",
      "Epoch 4/100\n",
      "36/36 - 0s - loss: 0.2981 - accuracy: 0.8852 - val_loss: 0.2879 - val_accuracy: 0.9060\n",
      "Epoch 5/100\n",
      "36/36 - 0s - loss: 0.2849 - accuracy: 0.8919 - val_loss: 0.2813 - val_accuracy: 0.9083\n",
      "Epoch 6/100\n",
      "36/36 - 0s - loss: 0.2740 - accuracy: 0.8944 - val_loss: 0.2773 - val_accuracy: 0.9105\n",
      "Epoch 7/100\n",
      "36/36 - 0s - loss: 0.2665 - accuracy: 0.8983 - val_loss: 0.2761 - val_accuracy: 0.9060\n",
      "Epoch 8/100\n",
      "36/36 - 0s - loss: 0.2601 - accuracy: 0.8994 - val_loss: 0.2697 - val_accuracy: 0.9105\n",
      "Epoch 9/100\n",
      "36/36 - 0s - loss: 0.2556 - accuracy: 0.9003 - val_loss: 0.2675 - val_accuracy: 0.9083\n",
      "Epoch 10/100\n",
      "36/36 - 0s - loss: 0.2523 - accuracy: 0.9039 - val_loss: 0.2655 - val_accuracy: 0.9083\n",
      "Epoch 11/100\n",
      "36/36 - 0s - loss: 0.2481 - accuracy: 0.9036 - val_loss: 0.2609 - val_accuracy: 0.9105\n",
      "Epoch 12/100\n",
      "36/36 - 0s - loss: 0.2450 - accuracy: 0.9056 - val_loss: 0.2639 - val_accuracy: 0.9083\n",
      "Epoch 13/100\n",
      "36/36 - 0s - loss: 0.2446 - accuracy: 0.9072 - val_loss: 0.2556 - val_accuracy: 0.9150\n",
      "Epoch 14/100\n",
      "36/36 - 0s - loss: 0.2392 - accuracy: 0.9064 - val_loss: 0.2560 - val_accuracy: 0.9105\n",
      "Epoch 15/100\n",
      "36/36 - 0s - loss: 0.2392 - accuracy: 0.9081 - val_loss: 0.2592 - val_accuracy: 0.9105\n"
     ]
    },
    {
     "data": {
      "text/plain": [
       "<tensorflow.python.keras.callbacks.History at 0x2cddd418e50>"
      ]
     },
     "execution_count": 3,
     "metadata": {},
     "output_type": "execute_result"
    }
   ],
   "source": [
    "# Set the input and output sizes\n",
    "input_size = 10\n",
    "output_size = 2\n",
    "# Use same hidden layer size for both hidden layers. Not a necessity\n",
    "hidden_layer_size = 50\n",
    "    \n",
    "# Define how the model will look like\n",
    "model = tf.keras.Sequential([\n",
    "    # tf.keras.layers.Dense is basically implementing: output = activation(dot(input, weight) + bias)\n",
    "    tf.keras.layers.Dense(hidden_layer_size, activation='relu'), # 1st hidden layer\n",
    "    tf.keras.layers.Dense(hidden_layer_size, activation='relu'), # 2nd hidden layer\n",
    "    # The final layer \n",
    "    tf.keras.layers.Dense(output_size, activation='softmax') # output layer\n",
    "])\n",
    "\n",
    "### Choose the optimizer and the loss function\n",
    "model.compile(optimizer='adam', loss='sparse_categorical_crossentropy', metrics=['accuracy'])\n",
    "\n",
    "\n",
    "### Training\n",
    "# Set the batch size\n",
    "batch_size = 100\n",
    "\n",
    "# Set a maximum number of training epochs\n",
    "max_epochs = 100\n",
    "\n",
    "# Set an early stopping mechanism\n",
    "early_stopping = tf.keras.callbacks.EarlyStopping(patience=2)\n",
    "\n",
    "# Fit the model\n",
    "model.fit(train_inputs,               # train inputs\n",
    "          train_targets,              # train targets\n",
    "          batch_size=batch_size,      # batch size\n",
    "          epochs=max_epochs,          # epochs\n",
    "          callbacks=[early_stopping], # early stopping\n",
    "          validation_data=(validation_inputs, validation_targets), # validation data\n",
    "          verbose = 2 \n",
    "          )  "
   ]
  },
  {
   "attachments": {},
   "cell_type": "markdown",
   "metadata": {},
   "source": [
    "## Test the model\n",
    "\n",
    "After training on the training data and validating on the validation data, the final prediction power of the model is tested by running it on the test dataset that the algorithm has NEVER seen before."
   ]
  },
  {
   "cell_type": "code",
   "execution_count": 4,
   "metadata": {},
   "outputs": [
    {
     "name": "stdout",
     "output_type": "stream",
     "text": [
      "14/14 [==============================] - 0s 1ms/step - loss: 0.2315 - accuracy: 0.9219\n"
     ]
    }
   ],
   "source": [
    "test_loss, test_accuracy = model.evaluate(test_inputs, test_targets)"
   ]
  },
  {
   "cell_type": "code",
   "execution_count": 5,
   "metadata": {},
   "outputs": [
    {
     "name": "stdout",
     "output_type": "stream",
     "text": [
      "\n",
      "Test loss: 0.23. Test accuracy: 92.19%\n"
     ]
    }
   ],
   "source": [
    "print('\\nTest loss: {0:.2f}. Test accuracy: {1:.2f}%'.format(test_loss, test_accuracy*100.))"
   ]
  }
 ],
 "metadata": {
  "kernelspec": {
   "display_name": "Python 3.8.5 ('base')",
   "language": "python",
   "name": "python3"
  },
  "language_info": {
   "codemirror_mode": {
    "name": "ipython",
    "version": 3
   },
   "file_extension": ".py",
   "mimetype": "text/x-python",
   "name": "python",
   "nbconvert_exporter": "python",
   "pygments_lexer": "ipython3",
   "version": "3.8.5"
  },
  "vscode": {
   "interpreter": {
    "hash": "ff6cf99707e361402dc4a14a813a512535440bf8d65a9ba2920fc4b79db5447f"
   }
  }
 },
 "nbformat": 4,
 "nbformat_minor": 2
}
